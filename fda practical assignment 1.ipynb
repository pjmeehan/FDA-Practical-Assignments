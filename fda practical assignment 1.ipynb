{
 "cells": [
  {
   "cell_type": "markdown",
   "metadata": {},
   "source": [
    "# Fundamentals of Data Analysis Practical Assignment¶"
   ]
  },
  {
   "cell_type": "markdown",
   "metadata": {},
   "source": [
    "## ANSCOMBE'S QUARTET DATASET\n",
    "***"
   ]
  },
  {
   "cell_type": "markdown",
   "metadata": {},
   "source": [
    "1. Explain the background to the dataset - who created it, when it was created, and any speculation you can find regarding how it might have been created.\n",
    "2. Plot the interesting aspects of the dataset.\n",
    "3. Calculate the descriptive statistics of the variables in the dataset.\n",
    "4. Explain why the dataset is interesting, referring to the plots and statistics above.\n",
    "***"
   ]
  },
  {
   "cell_type": "markdown",
   "metadata": {},
   "source": [
    "### 1.  Explain the background to the dataset - who created it, when it was created, and any speculation you can find regarding how it might have been created.\n",
    "***"
   ]
  },
  {
   "cell_type": "code",
   "execution_count": 8,
   "metadata": {},
   "outputs": [],
   "source": [
    "import numpy as np\n",
    "import matplotlib.pyplot as plt\n",
    "import pandas as pd\n",
    "import csv"
   ]
  },
  {
   "cell_type": "code",
   "execution_count": 10,
   "metadata": {},
   "outputs": [],
   "source": [
    "x = open(\"anscombe dataset.csv\") \n",
    "y = open(\"Anscombe I.csv\") \n",
    "z = open(\"Anscombe II.csv\")\n",
    "a = open(\"Anscombe III.csv\")\n",
    "b = open(\"Anscombe IV.csv\")"
   ]
  },
  {
   "cell_type": "code",
   "execution_count": 15,
   "metadata": {
    "scrolled": true
   },
   "outputs": [],
   "source": [
    "csv_x = csv.reader(x)\n",
    "csv_y = csv.reader(y)\n",
    "csv_z = csv.reader(z)\n",
    "csv_a = csv.reader(a)\n",
    "csv_b = csv.reader(b)\n",
    "anscombe = pd.read_csv(\"anscombe dataset.csv\")\n",
    "AnscombeI = pd.read_csv(\"Anscombe I.csv\")\n",
    "AnscombeII = pd.read_csv(\"Anscombe II.csv\")\n",
    "AnscombeIII = pd.read_csv(\"Anscombe III.csv\")\n",
    "AnscombeIV = pd.read_csv(\"Anscombe IV.csv\")"
   ]
  },
  {
   "cell_type": "code",
   "execution_count": 16,
   "metadata": {},
   "outputs": [
    {
     "ename": "SyntaxError",
     "evalue": "invalid syntax (<ipython-input-16-d987c3f2a3c6>, line 3)",
     "output_type": "error",
     "traceback": [
      "\u001b[1;36m  File \u001b[1;32m\"<ipython-input-16-d987c3f2a3c6>\"\u001b[1;36m, line \u001b[1;32m3\u001b[0m\n\u001b[1;33m    print(anscombe dataset.describe())\u001b[0m\n\u001b[1;37m                         ^\u001b[0m\n\u001b[1;31mSyntaxError\u001b[0m\u001b[1;31m:\u001b[0m invalid syntax\n"
     ]
    }
   ],
   "source": [
    "print(\"\\n\"*1) \n",
    "print(\"anscombe dataset\")\n",
    "print(anscombe dataset.describe())\n",
    "print(\"\\n\"*1)\n",
    "print(\"Anscombe I\")\n",
    "print(Anscombe I.describe())\n",
    "print(\"\\n\"*1)\n",
    "print(\"Anscombe II\")\n",
    "print(Anscombe II.describe())\n",
    "print(\"\\n\"*1)\n",
    "print(\"Anscombe III\")\n",
    "print(Anscombe III.describe())\n",
    "print(\"\\n\"*1)\n",
    "print(\"Anscombe IV\")\n",
    "print(Anscombe IV.describe())"
   ]
  },
  {
   "cell_type": "code",
   "execution_count": null,
   "metadata": {},
   "outputs": [],
   "source": []
  }
 ],
 "metadata": {
  "kernelspec": {
   "display_name": "Python 3",
   "language": "python",
   "name": "python3"
  },
  "language_info": {
   "codemirror_mode": {
    "name": "ipython",
    "version": 3
   },
   "file_extension": ".py",
   "mimetype": "text/x-python",
   "name": "python",
   "nbconvert_exporter": "python",
   "pygments_lexer": "ipython3",
   "version": "3.6.5"
  }
 },
 "nbformat": 4,
 "nbformat_minor": 2
}
