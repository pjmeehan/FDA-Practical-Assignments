{
 "cells": [
  {
   "cell_type": "markdown",
   "metadata": {},
   "source": [
    "# Fundamentals of Data Analysis Practical Assignment¶"
   ]
  },
  {
   "cell_type": "markdown",
   "metadata": {},
   "source": [
    "## ANSCOMBE'S QUARTET DATASET\n",
    "***"
   ]
  },
  {
   "cell_type": "markdown",
   "metadata": {},
   "source": [
    "1. Explain the background to the dataset - who created it, when it was created, and any speculation you can find regarding how it might have been created.\n",
    "2. Plot the interesting aspects of the dataset.\n",
    "3. Calculate the descriptive statistics of the variables in the dataset.\n",
    "4. Explain why the dataset is interesting, referring to the plots and statistics above.\n",
    "***"
   ]
  },
  {
   "cell_type": "markdown",
   "metadata": {},
   "source": [
    "### 1.  Explain the background to the dataset - who created it, when it was created, and any speculation you can find regarding how it might have been created.\n",
    "***"
   ]
  },
  {
   "cell_type": "code",
   "execution_count": 14,
   "metadata": {},
   "outputs": [],
   "source": [
    "import numpy as np\n",
    "import matplotlib.pyplot as plt\n",
    "import pandas as pd\n",
    "import csv"
   ]
  },
  {
   "cell_type": "code",
   "execution_count": 15,
   "metadata": {},
   "outputs": [],
   "source": [
    "x = open(\"anscombedataset.csv\") \n",
    "y = open(\"AnscombeI.csv\") \n",
    "z = open(\"AnscombeII.csv\")\n",
    "a = open(\"AnscombeIII.csv\")\n",
    "b = open(\"AnscombeIV.csv\")"
   ]
  },
  {
   "cell_type": "code",
   "execution_count": 16,
   "metadata": {
    "scrolled": true
   },
   "outputs": [],
   "source": [
    "csv_x = csv.reader(x)\n",
    "csv_y = csv.reader(y)\n",
    "csv_z = csv.reader(z)\n",
    "csv_a = csv.reader(a)\n",
    "csv_b = csv.reader(b)\n",
    "anscombe = pd.read_csv(\"anscombedataset.csv\")\n",
    "AnscombeI = pd.read_csv(\"AnscombeI.csv\")\n",
    "AnscombeII = pd.read_csv(\"AnscombeII.csv\")\n",
    "AnscombeIII = pd.read_csv(\"AnscombeIII.csv\")\n",
    "AnscombeIV = pd.read_csv(\"AnscombeIV.csv\")"
   ]
  },
  {
   "cell_type": "code",
   "execution_count": 19,
   "metadata": {},
   "outputs": [
    {
     "name": "stdout",
     "output_type": "stream",
     "text": [
      "\n",
      "\n",
      "anscombe dataset\n",
      "               x          y\n",
      "count  11.000000  11.000000\n",
      "mean    9.000000   7.500909\n",
      "std     3.316625   2.030579\n",
      "min     8.000000   5.250000\n",
      "25%     8.000000   6.170000\n",
      "50%     8.000000   7.040000\n",
      "75%     8.000000   8.190000\n",
      "max    19.000000  12.500000\n",
      "\n",
      "\n",
      "AnscombeI\n",
      "               x          y\n",
      "count  11.000000  11.000000\n",
      "mean    9.000000   7.500909\n",
      "std     3.316625   2.031568\n",
      "min     4.000000   4.260000\n",
      "25%     6.500000   6.315000\n",
      "50%     9.000000   7.580000\n",
      "75%    11.500000   8.570000\n",
      "max    14.000000  10.840000\n",
      "\n",
      "\n",
      "AnscombeII\n",
      "               x          y\n",
      "count  11.000000  11.000000\n",
      "mean    9.000000   7.500909\n",
      "std     3.316625   2.031657\n",
      "min     4.000000   3.100000\n",
      "25%     6.500000   6.695000\n",
      "50%     9.000000   8.140000\n",
      "75%    11.500000   8.950000\n",
      "max    14.000000   9.260000\n",
      "\n",
      "\n",
      "AnscombeIII\n",
      "               x          y\n",
      "count  11.000000  11.000000\n",
      "mean    9.000000   7.500000\n",
      "std     3.316625   2.030424\n",
      "min     4.000000   5.390000\n",
      "25%     6.500000   6.250000\n",
      "50%     9.000000   7.110000\n",
      "75%    11.500000   7.980000\n",
      "max    14.000000  12.740000\n",
      "\n",
      "\n",
      "AnscombeIV\n",
      "               x          y\n",
      "count  11.000000  11.000000\n",
      "mean    9.000000   7.500909\n",
      "std     3.316625   2.030579\n",
      "min     8.000000   5.250000\n",
      "25%     8.000000   6.170000\n",
      "50%     8.000000   7.040000\n",
      "75%     8.000000   8.190000\n",
      "max    19.000000  12.500000\n"
     ]
    }
   ],
   "source": [
    "print(\"\\n\"*1) \n",
    "print(\"anscombe dataset\")\n",
    "print(anscombe.describe())\n",
    "print(\"\\n\"*1)\n",
    "print(\"AnscombeI\")\n",
    "print(AnscombeI.describe())\n",
    "print(\"\\n\"*1)\n",
    "print(\"AnscombeII\")\n",
    "print(AnscombeII.describe())\n",
    "print(\"\\n\"*1)\n",
    "print(\"AnscombeIII\")\n",
    "print(AnscombeIII.describe())\n",
    "print(\"\\n\"*1)\n",
    "print(\"AnscombeIV\")\n",
    "print(AnscombeIV.describe())"
   ]
  },
  {
   "cell_type": "code",
   "execution_count": null,
   "metadata": {},
   "outputs": [],
   "source": []
  },
  {
   "cell_type": "code",
   "execution_count": null,
   "metadata": {},
   "outputs": [],
   "source": []
  }
 ],
 "metadata": {
  "kernelspec": {
   "display_name": "Python 3",
   "language": "python",
   "name": "python3"
  },
  "language_info": {
   "codemirror_mode": {
    "name": "ipython",
    "version": 3
   },
   "file_extension": ".py",
   "mimetype": "text/x-python",
   "name": "python",
   "nbconvert_exporter": "python",
   "pygments_lexer": "ipython3",
   "version": "3.6.5"
  }
 },
 "nbformat": 4,
 "nbformat_minor": 2
}
